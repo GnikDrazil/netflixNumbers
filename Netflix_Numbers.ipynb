{
 "cells": [
  {
   "cell_type": "code",
   "execution_count": 1,
   "id": "statewide-classics",
   "metadata": {},
   "outputs": [],
   "source": [
    "import matplotlib.pyplot as plt\n",
    "import csv"
   ]
  },
  {
   "cell_type": "markdown",
   "id": "intelligent-pearl",
   "metadata": {},
   "source": [
    "## Importing and setting up our data\n",
    "\n",
    "We start by bringing in the CSV data into Python program\n",
    "We then parse the data using the CSV package, lastly we close the csv after have read the information"
   ]
  },
  {
   "cell_type": "code",
   "execution_count": 2,
   "id": "great-norfolk",
   "metadata": {},
   "outputs": [],
   "source": [
    "with open('netflix_titles.csv', 'r') as datafile:\n",
    "    netflix_data = csv.DictReader(datafile)\n",
    "    data_list = []\n",
    "    \n",
    "    for row in netflix_data:\n",
    "        data_list.append(row)"
   ]
  },
  {
   "cell_type": "markdown",
   "id": "worth-feature",
   "metadata": {},
   "source": [
    "## Data Collection\n",
    "\n",
    "We now need to iterate through the data and keep track of how many titles are availible in different countries"
   ]
  },
  {
   "cell_type": "code",
   "execution_count": 4,
   "id": "crucial-lucas",
   "metadata": {},
   "outputs": [],
   "source": [
    "us_data = 0\n",
    "uk_data = 0\n",
    "china_data = 0\n",
    "canada_data = 0\n",
    "japan_data = 0\n",
    "india_data = 0\n",
    "southKorea_data = 0\n",
    "other_data = 0\n",
    "\n",
    "for item in data_list:\n",
    "    if item['country'] == 'United States':\n",
    "        us_data = us_data + 1     \n",
    "    elif item['country'] == 'United Kingdom':\n",
    "        uk_data = uk_data + 1 \n",
    "    elif item['country'] == 'China':\n",
    "        china_data = china_data + 1 \n",
    "    elif item['country'] == 'Canada':\n",
    "        canada_data = canada_data + 1 \n",
    "    elif item['country'] == 'Japan':\n",
    "        japan_data = japan_data + 1 \n",
    "    elif item['country'] == 'India':\n",
    "        india_data = india_data + 1\n",
    "    elif item['country'] == 'South Korea':\n",
    "        southKorea_data = southKorea_data + 1 \n",
    "    else:\n",
    "        other_data = other_data + 1\n"
   ]
  },
  {
   "cell_type": "markdown",
   "id": "legitimate-roommate",
   "metadata": {},
   "source": [
    "Although it is not necesary, we can see how many titles each of these countries has"
   ]
  },
  {
   "cell_type": "code",
   "execution_count": 31,
   "id": "optimum-roulette",
   "metadata": {},
   "outputs": [
    {
     "name": "stdout",
     "output_type": "stream",
     "text": [
      "The United States has 2032 Netflix titles\n",
      "The United Kingdom has 348 Netflix titles\n",
      "China has 50 Netflix titles\n",
      "Canada has 141 Netflix titles\n",
      "Japan has 176 Netflix titles\n",
      "India has 777 Netflix titles\n",
      "South Korea has 136 Netflix titles\n",
      "There are 2574 more Netflix titles not found in any of the countries above\n"
     ]
    }
   ],
   "source": [
    "print('The United States has ' + str(us_data) + ' Netflix titles')\n",
    "print('The United Kingdom has ' + str(uk_data) + ' Netflix titles')\n",
    "print('China has ' + str(china_data) + ' Netflix titles')\n",
    "print('Canada has ' + str(canada_data) + ' Netflix titles')\n",
    "print('Japan has ' + str(japan_data) + ' Netflix titles')\n",
    "print('India has ' + str(india_data) + ' Netflix titles')\n",
    "print('South Korea has ' + str(southKorea_data) + ' Netflix titles')\n",
    "print('There are ' + str(other_data) + ' more Netflix titles not found in any of the countries above')"
   ]
  },
  {
   "cell_type": "markdown",
   "id": "derived-accused",
   "metadata": {},
   "source": [
    "## Percentages:\n",
    "\n",
    "Now that we have collected the necesary data, we need to calculate their percentages relative to each other\n",
    "\n",
    "The first step to do this is to calculate the SUM"
   ]
  },
  {
   "cell_type": "code",
   "execution_count": 30,
   "id": "organic-intake",
   "metadata": {},
   "outputs": [],
   "source": [
    "sum = us_data + uk_data + china_data + canada_data + japan_data + india_data + southKorea_data + other_data"
   ]
  },
  {
   "cell_type": "markdown",
   "id": "south-person",
   "metadata": {},
   "source": [
    "Now that we have the sum, we can calculate the percentage of each country\n",
    "\n",
    "For simplicity, I also have the numbers round to the nearest tenth"
   ]
  },
  {
   "cell_type": "code",
   "execution_count": 32,
   "id": "extreme-breed",
   "metadata": {},
   "outputs": [],
   "source": [
    "percentUS = round(((us_data / sum)*100),1)\n",
    "percentUK = round(((uk_data / sum)*100),1)\n",
    "percentChina = round(((china_data / sum)*100),1)\n",
    "percentCanada = round(((canada_data / sum)*100),1)\n",
    "percentJapan = round(((japan_data / sum)*100),1)\n",
    "percentIndia = round(((india_data / sum)*100),1)\n",
    "percentSK = round(((southKorea_data / sum)*100),1)\n",
    "percentOther = round(((other_data / sum)*100),1)"
   ]
  },
  {
   "cell_type": "markdown",
   "id": "golden-batman",
   "metadata": {},
   "source": [
    "At this point we can view the raw percentages before creating a visualization"
   ]
  },
  {
   "cell_type": "code",
   "execution_count": 33,
   "id": "unlike-agreement",
   "metadata": {},
   "outputs": [
    {
     "name": "stdout",
     "output_type": "stream",
     "text": [
      "32.6\n",
      "5.6\n",
      "0.8\n",
      "2.3\n",
      "2.8\n",
      "12.5\n",
      "2.2\n",
      "41.3\n"
     ]
    }
   ],
   "source": [
    "print(percentUS)\n",
    "print(percentUK)\n",
    "print(percentChina)\n",
    "print(percentCanada)\n",
    "print(percentJapan)\n",
    "print(percentIndia)\n",
    "print(percentSK)\n",
    "\n",
    "print(percentOther)"
   ]
  },
  {
   "cell_type": "markdown",
   "id": "composed-detector",
   "metadata": {},
   "source": [
    "## Data Visualization\n",
    "\n",
    "Now that we have all the data necesary, it is just a matter of plotting the data \n",
    "\n",
    "Since we are working with percentages, the most logical visualization to use is a pie chart"
   ]
  },
  {
   "cell_type": "code",
   "execution_count": 47,
   "id": "traditional-peace",
   "metadata": {},
   "outputs": [
    {
     "data": {
      "image/png": "[encoded data removed]",
      "text/plain": [
       "<Figure size 432x288 with 1 Axes>"
      ]
     },
     "metadata": {},
     "output_type": "display_data"
    }
   ],
   "source": [
    "labels = 'United States', 'India', 'United Kingdom', 'Japan', 'Canada', 'South Korea', 'China', 'Other'\n",
    "sizes = [percentUS, percentIndia, percentUK, percentJapan, percentCanada, percentSK, percentChina, percentOther]\n",
    "explode = (0, 0, 0, 0, 0, 0, 0, 0)\n",
    "\n",
    "fig1, ax1 = plt.subplots()\n",
    "ax1.pie(sizes, explode=explode, labels=labels, autopct='%1.1f%%',\n",
    "        shadow=True, startangle=90)\n",
    "ax1.axis('equal')\n",
    "\n",
    "plt.show()"
   ]
  },
  {
   "cell_type": "markdown",
   "id": "organic-connection",
   "metadata": {},
   "source": [
    "## Conclusion\n",
    "\n",
    "It is clear that the United States is the largest Netflix customer, especially since it has a much larger library than countries like China, and India that have a much higher population\n",
    "\n",
    "It is also apparent that a plurality of smaller countires make up a substainsial  part of Netflix's library"
   ]
  },
  {
   "cell_type": "code",
   "execution_count": null,
   "id": "cultural-legislature",
   "metadata": {},
   "outputs": [],
   "source": []
  }
 ],
 "metadata": {
  "kernelspec": {
   "display_name": "netflix_data",
   "language": "python",
   "name": "netflix_data"
  },
  "language_info": {
   "codemirror_mode": {
    "name": "ipython",
    "version": 3
   },
   "file_extension": ".py",
   "mimetype": "text/x-python",
   "name": "python",
   "nbconvert_exporter": "python",
   "pygments_lexer": "ipython3",
   "version": "3.8.1"
  }
 },
 "nbformat": 4,
 "nbformat_minor": 5
}
